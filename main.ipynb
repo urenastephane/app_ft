{
 "cells": [
  {
   "cell_type": "code",
   "execution_count": 1,
   "metadata": {},
   "outputs": [
    {
     "name": "stderr",
     "output_type": "stream",
     "text": [
      "[nltk_data] Downloading package punkt to\n",
      "[nltk_data]     C:\\Users\\Chiara\\AppData\\Roaming\\nltk_data...\n",
      "[nltk_data]   Package punkt is already up-to-date!\n",
      "[nltk_data] Downloading package stopwords to\n",
      "[nltk_data]     C:\\Users\\Chiara\\AppData\\Roaming\\nltk_data...\n",
      "[nltk_data]   Package stopwords is already up-to-date!\n"
     ]
    }
   ],
   "source": [
    "import pandas as pd\n",
    "import utils\n",
    "import preprocessing\n",
    "import factors\n",
    "from copy import deepcopy"
   ]
  },
  {
   "cell_type": "code",
   "execution_count": 2,
   "metadata": {},
   "outputs": [],
   "source": [
    "### MODIFY JUST HERE THE PARAMETERS OF THE ANALYSIS\n",
    "\n",
    "#PARAMETERS IMPORT\n",
    "\n",
    "#specify the year of the analysis\n",
    "year = 2018\n",
    "#file path of the analysis output\n",
    "file_path = f\"analysis{year}.xlsx\"\n",
    "#specify if there is a qualtrics questionnaire for this year\n",
    "qualtrics_data = True\n",
    "\n",
    "#________________________________________________________________________________________________________________________\n",
    "#PARAMETERS PREPROCESSING\n",
    "\n",
    "#specify with which value we want to substitute the range of salaries (possible values are: \"mean\", \"min\", \"max\")\n",
    "method_range = \"mean\"\n",
    "\n",
    "#in satisfaction, which value to assign to \"Yes\", when the evaluation is not from a scale from -2 (Really Unsatisfied) \n",
    "# to +2 (Really Satisfied)\n",
    "use_recommendations = True\n",
    "value_binary = 2\n",
    "\n",
    "#how many years back do you want to go to find a valid salary\n",
    "years = 0\n",
    "\n",
    "#_______________________________________________________________________________________________________________________\n",
    "#PARAMETERS SCORE\n",
    "weights = {\n",
    "        \"is_woman\":5,\n",
    "        \"is_int\":5,\n",
    "        \"career_jump\":5,\n",
    "        \"satisfaction\":5,\n",
    "        \"career_service\":5,\n",
    "        \"mobility\":8,\n",
    "        \"salary\":20,\n",
    "        \"salary_increase_perc\":5,\n",
    "        \"salary_increase_abs\":5\n",
    "    }\n",
    "\n",
    "#Specify in which way do you want to substitute null values\n",
    "# Possible values are: \n",
    "# \"ignore\" (do not consider the null values in the averages)\n",
    "# \"general\" (substitute every missing value with the general average of that variable)\n",
    "# \"group\" (sustitute missing values with the average of the subgroup)\n",
    "na_method = \"ignore\"\n",
    "\n",
    "\n",
    "#number of decimals to include in the final table \n",
    "decimals = 2"
   ]
  },
  {
   "cell_type": "code",
   "execution_count": 3,
   "metadata": {},
   "outputs": [],
   "source": [
    "if qualtrics_data == False and years == 0:\n",
    "    years = 1\n",
    "\n",
    "#import BDD file\n",
    "df_y1_y2 = utils.import_BDD(f\"data/BDD{year}.csv\")\n",
    "\n",
    "#import qualtrics file (substituted by an empty file if not avaialable)\n",
    "df_y3 = utils.import_qualtrics(f\"data/qualtrics{year}.csv\")\n",
    "\n",
    "#merge the two data sources (BDD and qualtrics)\n",
    "df_all = pd.merge(df_y1_y2,df_y3, how=\"outer\", on=\"bid\")\n",
    "\n",
    "#import file containing admission codes\n",
    "admissions = pd.read_csv(\"data/admission.csv\")\n",
    "admissions.dropna(inplace = True)\n",
    "admissions.drop(\"STVATTS_DESC\", axis = 1, inplace = True)\n",
    "\n",
    "#modify something in admission valid just for year 2020\n",
    "if year == 2020:\n",
    "    df = deepcopy(df_all)\n",
    "    df[\"Admission\"] = df[\"admission1\"]\n",
    "    df[\"Admission AST\"] = df[\"admission1\"].replace([\"ASTF\", \"ASTI\"], \"AST\")\n",
    "else:\n",
    "    df = df_all.merge(admissions, how = \"left\", left_on = \"admission1\", right_on = \"STVATTS_CODE\")\n",
    "    df.drop(\"STVATTS_CODE\", axis = 1, inplace = True)\n",
    "\n",
    "\n",
    "#preprocess the file\n",
    "df_prep = preprocessing.preprocessing_df(df, method_range,value_binary)\n",
    "\n",
    "#compute all the single variables\n",
    "df_factors = df_factors = factors.factors_df(df_prep, grouping_criteria=[\"Admission\", \"Admission AST\"], years_before = years, qualtrics = qualtrics_data, recommendations = use_recommendations)\n",
    "\n",
    "#add info about the chaires if available\n",
    "try:\n",
    "    chaires = pd.read_csv(f\"data/chaires{year}.csv\")\n",
    "    chaires[\"Chaires\"] = chaires.Chaires.apply(lambda x: x.split(\",\")[0] if type(x)==str else x)\n",
    "    df_factors = pd.merge(df_factors, chaires, how = \"left\", left_on= \"BID\", right_on=\"Ecole_BID\")\n",
    "    df_factors.drop(\"Ecole_BID\", axis = 1)\n",
    "    groups = [\"is_woman\", \"is_int\", \"Admission\", \"Admission AST\", \"Chaires\"]\n",
    "\n",
    "except:\n",
    "    groups = [\"is_woman\", \"is_int\", \"Admission\", \"Admission AST\"]\n",
    "\n",
    "\n"
   ]
  },
  {
   "cell_type": "code",
   "execution_count": 4,
   "metadata": {},
   "outputs": [],
   "source": [
    "#run the analysis for each subgroup and save the result as an excel file\n",
    "with pd.ExcelWriter(file_path) as writer:\n",
    "    df_factors.to_excel(writer, sheet_name = \"factors\", index = False)\n",
    "    for group in groups:\n",
    "        temp = factors.score(df_factors, group, weights, na_method, weighted=False)\n",
    "        temp = utils.round_all(temp,decimals)\n",
    "        temp.to_excel(writer, sheet_name=group, index=False)"
   ]
  }
 ],
 "metadata": {
  "interpreter": {
   "hash": "e3bb8fee915964c98bdc758b4b513ee38917f0a6fb4349bbca79ac4e140842c9"
  },
  "kernelspec": {
   "display_name": "Python 3.8.8 ('base')",
   "language": "python",
   "name": "python3"
  },
  "language_info": {
   "codemirror_mode": {
    "name": "ipython",
    "version": 3
   },
   "file_extension": ".py",
   "mimetype": "text/x-python",
   "name": "python",
   "nbconvert_exporter": "python",
   "pygments_lexer": "ipython3",
   "version": "3.8.8"
  },
  "orig_nbformat": 4
 },
 "nbformat": 4,
 "nbformat_minor": 2
}
