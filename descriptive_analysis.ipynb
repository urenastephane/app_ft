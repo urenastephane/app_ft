{
 "cells": [
  {
   "cell_type": "code",
   "execution_count": 32,
   "metadata": {},
   "outputs": [],
   "source": [
    "import pandas as pd\n",
    "import utils\n",
    "import preprocessing\n",
    "import factors\n",
    "from factors import *\n",
    "import numpy as np"
   ]
  },
  {
   "cell_type": "code",
   "execution_count": 101,
   "metadata": {},
   "outputs": [],
   "source": [
    "#redefine the function that computes all the factors to eliminate scaling and elimination of outliers\n",
    "def factors_df(df, grouping_criteria=[], years_before = 0, qualtrics = True, recommendations = True):\n",
    "    \n",
    "    grouping_criteria = grouping_criteria if type(grouping_criteria)==list else [grouping_criteria]\n",
    "    \n",
    "    #create new dataframe\n",
    "    new_df = pd.DataFrame()\n",
    "\n",
    "    #add a column for each factor\n",
    "    new_df[\"BID\"] = df[\"bid\"]\n",
    "    new_df[\"is_woman\"]= df.apply(gender, axis = 1)\n",
    "    new_df[\"is_int\"]= df.apply(international, axis = 1)\n",
    "    new_df[\"salary_increase_abs\"] = df.apply(lambda x: salary_increase(x,qualtrics), axis = 1).apply(lambda x: x[0])\n",
    "    new_df[\"salary_increase_perc\"] = df.apply(lambda x: salary_increase(x,qualtrics), axis = 1).apply(lambda x: x[1])\n",
    "    new_df[\"salary\"] = df.apply(lambda x: salary(x, years_before),axis = 1)\n",
    "    new_df[\"satisfaction\"] = df.apply(lambda x: satisfaction(x,recommendations), axis = 1)\n",
    "    new_df[\"career_service\"] = df.apply(career_services, axis = 1)\n",
    "    new_df[\"mobility\"] = df.apply(lambda x: mobility(x, qualtrics), axis = 1)\n",
    "    new_df[\"career_jump\"] = df.apply(career_jump, axis = 1)\n",
    "\n",
    "    #add columns for grouping criteria\n",
    "    for i in grouping_criteria:\n",
    "        new_df[i] = df[i]\n",
    "    \n",
    "    return new_df"
   ]
  },
  {
   "cell_type": "code",
   "execution_count": 4,
   "metadata": {},
   "outputs": [],
   "source": [
    "def load_data(year):\n",
    "    #import BDD file\n",
    "    df_y1_y2 = utils.import_BDD(f\"data/BDD{year}.csv\")\n",
    "    #import qualtrics file (substituted by an empty file if not avaialable)\n",
    "    df_y3 = utils.import_qualtrics(f\"data/qualtrics{year}.csv\")\n",
    "    #merge the two data sources (BDD and qualtrics)\n",
    "    df_all = pd.merge(df_y1_y2,df_y3, how=\"outer\", on=\"bid\")\n",
    "    #import file containing admission codes\n",
    "    admissions = pd.read_csv(\"data/admission.csv\")\n",
    "    admissions.dropna(inplace = True)\n",
    "    admissions.drop(\"STVATTS_DESC\", axis = 1, inplace = True)\n",
    "\n",
    "    #join the admissions codes with the general df\n",
    "    df = df_all.merge(admissions, how = \"left\", left_on = \"admission1\", right_on = \"STVATTS_CODE\")\n",
    "    df.drop(\"STVATTS_CODE\", axis = 1, inplace = True)\n",
    "    return df"
   ]
  },
  {
   "cell_type": "code",
   "execution_count": 5,
   "metadata": {},
   "outputs": [],
   "source": [
    "df20 = load_data(2020)\n",
    "df19 = load_data(2019)\n",
    "df18 = load_data(2018)"
   ]
  },
  {
   "cell_type": "code",
   "execution_count": 6,
   "metadata": {},
   "outputs": [],
   "source": [
    "df20 = preprocessing.preprocessing_df(df20, \"mean\",2)\n",
    "df19 = preprocessing.preprocessing_df(df19, \"mean\", 2)\n",
    "df18 = preprocessing.preprocessing_df(df18, \"mean\", 2)"
   ]
  },
  {
   "cell_type": "code",
   "execution_count": 12,
   "metadata": {},
   "outputs": [],
   "source": [
    "factors20 = factors_df(df20, \n",
    "                                grouping_criteria=[\"Admission\", \"Admission AST\"],\n",
    "                                years_before = 1, qualtrics = False,\n",
    "                                recommendations = False)\n",
    "\n",
    "                                #remember that for 2020 we do not have qualtrics data, so we cannot use recommendations\n",
    "                                #(which are in qualtrics data)\n",
    "                                #and we don't have the last year, so years before must be 1\n",
    "\n",
    "factors19 = factors_df(df19, \n",
    "                                grouping_criteria=[\"Admission\", \"Admission AST\"],\n",
    "                                years_before = 0, qualtrics = True,\n",
    "                                recommendations = True)\n",
    "\n",
    "factors18 = factors_df(df18, \n",
    "                                grouping_criteria=[\"Admission\", \"Admission AST\"],\n",
    "                                years_before = 0, qualtrics = True,\n",
    "                                recommendations = True)"
   ]
  },
  {
   "cell_type": "code",
   "execution_count": 18,
   "metadata": {},
   "outputs": [
    {
     "data": {
      "text/html": [
       "<div>\n",
       "<style scoped>\n",
       "    .dataframe tbody tr th:only-of-type {\n",
       "        vertical-align: middle;\n",
       "    }\n",
       "\n",
       "    .dataframe tbody tr th {\n",
       "        vertical-align: top;\n",
       "    }\n",
       "\n",
       "    .dataframe thead th {\n",
       "        text-align: right;\n",
       "    }\n",
       "</style>\n",
       "<table border=\"1\" class=\"dataframe\">\n",
       "  <thead>\n",
       "    <tr style=\"text-align: right;\">\n",
       "      <th></th>\n",
       "      <th>salary_increase_abs</th>\n",
       "      <th>salary_increase_perc</th>\n",
       "      <th>salary</th>\n",
       "      <th>satisfaction</th>\n",
       "      <th>career_service</th>\n",
       "    </tr>\n",
       "  </thead>\n",
       "  <tbody>\n",
       "    <tr>\n",
       "      <th>count</th>\n",
       "      <td>320.000000</td>\n",
       "      <td>320.000000</td>\n",
       "      <td>366.000000</td>\n",
       "      <td>314.000000</td>\n",
       "      <td>265.000000</td>\n",
       "    </tr>\n",
       "    <tr>\n",
       "      <th>mean</th>\n",
       "      <td>25751.622441</td>\n",
       "      <td>0.587753</td>\n",
       "      <td>68344.262295</td>\n",
       "      <td>1.085191</td>\n",
       "      <td>1.671698</td>\n",
       "    </tr>\n",
       "    <tr>\n",
       "      <th>std</th>\n",
       "      <td>25910.407585</td>\n",
       "      <td>1.382106</td>\n",
       "      <td>22585.219009</td>\n",
       "      <td>0.868390</td>\n",
       "      <td>0.892812</td>\n",
       "    </tr>\n",
       "    <tr>\n",
       "      <th>min</th>\n",
       "      <td>-40000.000000</td>\n",
       "      <td>-0.418848</td>\n",
       "      <td>50000.000000</td>\n",
       "      <td>-2.000000</td>\n",
       "      <td>0.000000</td>\n",
       "    </tr>\n",
       "    <tr>\n",
       "      <th>25%</th>\n",
       "      <td>10008.196721</td>\n",
       "      <td>0.220000</td>\n",
       "      <td>50000.000000</td>\n",
       "      <td>1.000000</td>\n",
       "      <td>1.000000</td>\n",
       "    </tr>\n",
       "    <tr>\n",
       "      <th>50%</th>\n",
       "      <td>20000.000000</td>\n",
       "      <td>0.440000</td>\n",
       "      <td>55500.000000</td>\n",
       "      <td>1.000000</td>\n",
       "      <td>2.000000</td>\n",
       "    </tr>\n",
       "    <tr>\n",
       "      <th>75%</th>\n",
       "      <td>31365.000000</td>\n",
       "      <td>0.663355</td>\n",
       "      <td>75500.000000</td>\n",
       "      <td>2.000000</td>\n",
       "      <td>2.000000</td>\n",
       "    </tr>\n",
       "    <tr>\n",
       "      <th>max</th>\n",
       "      <td>163830.000000</td>\n",
       "      <td>24.000000</td>\n",
       "      <td>125500.000000</td>\n",
       "      <td>2.000000</td>\n",
       "      <td>3.000000</td>\n",
       "    </tr>\n",
       "  </tbody>\n",
       "</table>\n",
       "</div>"
      ],
      "text/plain": [
       "       salary_increase_abs  salary_increase_perc         salary  satisfaction  \\\n",
       "count           320.000000            320.000000     366.000000    314.000000   \n",
       "mean          25751.622441              0.587753   68344.262295      1.085191   \n",
       "std           25910.407585              1.382106   22585.219009      0.868390   \n",
       "min          -40000.000000             -0.418848   50000.000000     -2.000000   \n",
       "25%           10008.196721              0.220000   50000.000000      1.000000   \n",
       "50%           20000.000000              0.440000   55500.000000      1.000000   \n",
       "75%           31365.000000              0.663355   75500.000000      2.000000   \n",
       "max          163830.000000             24.000000  125500.000000      2.000000   \n",
       "\n",
       "       career_service  \n",
       "count      265.000000  \n",
       "mean         1.671698  \n",
       "std          0.892812  \n",
       "min          0.000000  \n",
       "25%          1.000000  \n",
       "50%          2.000000  \n",
       "75%          2.000000  \n",
       "max          3.000000  "
      ]
     },
     "execution_count": 18,
     "metadata": {},
     "output_type": "execute_result"
    }
   ],
   "source": [
    "factors18[[\"salary_increase_abs\", \"salary_increase_perc\", \"salary\", \"satisfaction\", \"career_service\"]].describe()"
   ]
  },
  {
   "cell_type": "code",
   "execution_count": 43,
   "metadata": {},
   "outputs": [
    {
     "data": {
      "text/plain": [
       "163830.0"
      ]
     },
     "execution_count": 43,
     "metadata": {},
     "output_type": "execute_result"
    }
   ],
   "source": [
    "factors18[\"salary_increase_abs\"].max()"
   ]
  },
  {
   "cell_type": "code",
   "execution_count": 49,
   "metadata": {},
   "outputs": [],
   "source": [
    "def describe(variable):\n",
    "    description = pd.DataFrame(index = [\"mean\", \"std\", \"min\", \"0.01 percentile\", \"0.05 percentile\", \"0.95 percentile\", \"0.99 percentile\", \"max\"])\n",
    "    \n",
    "    year = 2018\n",
    "    for i in [factors18, factors19, factors20]:\n",
    "        series = i[variable]\n",
    "        stats = []\n",
    "        stats.append(round(series.mean(),2))\n",
    "        stats.append(round(series.std(),2))\n",
    "        stats.append(series.min())\n",
    "        stats.append(series.quantile(0.01))\n",
    "        stats.append(series.quantile(0.05))\n",
    "        stats.append(series.quantile(0.95))\n",
    "        stats.append(series.quantile(0.99))\n",
    "        stats.append(series.max())\n",
    "\n",
    "        description[str(year)] = stats\n",
    "\n",
    "        year +=1\n",
    "    \n",
    "    return description\n"
   ]
  },
  {
   "cell_type": "code",
   "execution_count": 58,
   "metadata": {},
   "outputs": [
    {
     "name": "stdout",
     "output_type": "stream",
     "text": [
      "salary_increase_abs\n",
      "                      2018       2019       2020\n",
      "mean              25751.62    9615.08   17049.57\n",
      "std               25910.41   21951.69   52502.15\n",
      "min              -40000.00 -150995.84  -46000.00\n",
      "0.01 percentile   -5025.00  -60544.13  -17929.78\n",
      "0.05 percentile       0.00   -6581.45   -3325.50\n",
      "0.95 percentile   79858.92   30175.00   62813.85\n",
      "0.99 percentile  120602.50   45145.00  164667.41\n",
      "max              163830.00   64500.00  582623.93\n",
      "_____________________________________________________ \n",
      "\n",
      "salary_increase_perc\n",
      "                  2018  2019  2020\n",
      "mean              0.59  0.33  0.26\n",
      "std               1.38  0.59  0.44\n",
      "min              -0.42 -0.73 -0.41\n",
      "0.01 percentile  -0.09 -0.44 -0.19\n",
      "0.05 percentile   0.00 -0.12 -0.06\n",
      "0.95 percentile   1.27  0.73  0.88\n",
      "0.99 percentile   2.47  3.27  2.42\n",
      "max              24.00  4.00  2.85\n",
      "_____________________________________________________ \n",
      "\n",
      "salary\n",
      "                      2018      2019        2020\n",
      "mean              68344.26  57982.91    68528.45\n",
      "std               22585.22  10570.36    74235.65\n",
      "min               50000.00  50000.00    20000.00\n",
      "0.01 percentile   50000.00  50000.00    31335.45\n",
      "0.05 percentile   50000.00  50000.00    37606.64\n",
      "0.95 percentile  125500.00  85500.00   132723.50\n",
      "0.99 percentile  125500.00  85500.00   234700.00\n",
      "max              125500.00  85500.00  1106870.81\n",
      "_____________________________________________________ \n",
      "\n",
      "satisfaction\n",
      "                 2018  2019  2020\n",
      "mean             1.09  1.01  0.93\n",
      "std              0.87  0.95  0.90\n",
      "min             -2.00 -2.00 -2.00\n",
      "0.01 percentile -2.00 -2.00 -2.00\n",
      "0.05 percentile -1.00 -1.00 -1.00\n",
      "0.95 percentile  2.00  2.00  2.00\n",
      "0.99 percentile  2.00  2.00  2.00\n",
      "max              2.00  2.00  2.00\n",
      "_____________________________________________________ \n",
      "\n",
      "career_service\n",
      "                 2018  2019  2020\n",
      "mean             1.67  1.63  1.47\n",
      "std              0.89  0.89  0.89\n",
      "min              0.00  0.00  0.00\n",
      "0.01 percentile  0.00  0.00  0.00\n",
      "0.05 percentile  0.00  0.00  0.00\n",
      "0.95 percentile  3.00  3.00  3.00\n",
      "0.99 percentile  3.00  3.00  3.00\n",
      "max              3.00  3.00  3.00\n",
      "_____________________________________________________ \n",
      "\n"
     ]
    }
   ],
   "source": [
    "for i in [\"salary_increase_abs\", \"salary_increase_perc\", \"salary\", \"satisfaction\", \"career_service\"]:\n",
    "    print(i)\n",
    "    print(describe(i).round(2))\n",
    "    print(\"_____________________________________________________ \\n\")"
   ]
  },
  {
   "cell_type": "code",
   "execution_count": 61,
   "metadata": {},
   "outputs": [],
   "source": [
    "def describe_sat(variable):\n",
    "    description = pd.DataFrame(index = [\"mean\", \"std\", \"min\", \"max\"])\n",
    "    \n",
    "    year = 2018\n",
    "    for i in [factors18, factors19, factors20]:\n",
    "        series = i[variable]\n",
    "        stats = []\n",
    "        stats.append(round(series.mean(),2))\n",
    "        stats.append(round(series.std(),2))\n",
    "        stats.append(series.min())\n",
    "        stats.append(series.max())\n",
    "\n",
    "        description[str(year)] = stats\n",
    "\n",
    "        year +=1\n",
    "    \n",
    "    return description"
   ]
  },
  {
   "cell_type": "code",
   "execution_count": 87,
   "metadata": {},
   "outputs": [
    {
     "data": {
      "text/plain": [
       "Index(['BID', 'is_woman', 'is_int', 'salary_increase_abs',\n",
       "       'salary_increase_perc', 'salary', 'satisfaction', 'career_service',\n",
       "       'mobility', 'career_jump', 'Admission', 'Admission AST'],\n",
       "      dtype='object')"
      ]
     },
     "execution_count": 87,
     "metadata": {},
     "output_type": "execute_result"
    }
   ],
   "source": [
    "factors18.columns"
   ]
  },
  {
   "cell_type": "code",
   "execution_count": 94,
   "metadata": {},
   "outputs": [
    {
     "data": {
      "text/plain": [
       "[0.0, 0.0, 0.0, 1.0]"
      ]
     },
     "execution_count": 94,
     "metadata": {},
     "output_type": "execute_result"
    }
   ],
   "source": [
    "factors18[[\"is_woman\",\"is_int\",\"mobility\", \"career_jump\"]].mode().values.tolist()[0]"
   ]
  },
  {
   "cell_type": "code",
   "execution_count": 95,
   "metadata": {},
   "outputs": [],
   "source": [
    "def mode():\n",
    "    modes = pd.DataFrame(index = [\"is_woman\",\"is_int\",\"mobility\", \"career_jump\"])\n",
    "    \n",
    "    year = 2018\n",
    "    for i in [factors18, factors19, factors20]:\n",
    "        modes[str(year)] = i[[\"is_woman\",\"is_int\",\"mobility\", \"career_jump\"]].mode().values.tolist()[0]\n",
    "\n",
    "        year +=1\n",
    "    \n",
    "    return modes"
   ]
  },
  {
   "cell_type": "code",
   "execution_count": 100,
   "metadata": {},
   "outputs": [
    {
     "data": {
      "text/html": [
       "<div>\n",
       "<style scoped>\n",
       "    .dataframe tbody tr th:only-of-type {\n",
       "        vertical-align: middle;\n",
       "    }\n",
       "\n",
       "    .dataframe tbody tr th {\n",
       "        vertical-align: top;\n",
       "    }\n",
       "\n",
       "    .dataframe thead th {\n",
       "        text-align: right;\n",
       "    }\n",
       "</style>\n",
       "<table border=\"1\" class=\"dataframe\">\n",
       "  <thead>\n",
       "    <tr style=\"text-align: right;\">\n",
       "      <th></th>\n",
       "      <th>2018</th>\n",
       "      <th>2019</th>\n",
       "      <th>2020</th>\n",
       "    </tr>\n",
       "  </thead>\n",
       "  <tbody>\n",
       "    <tr>\n",
       "      <th>mean</th>\n",
       "      <td>1.09</td>\n",
       "      <td>1.01</td>\n",
       "      <td>0.93</td>\n",
       "    </tr>\n",
       "    <tr>\n",
       "      <th>std</th>\n",
       "      <td>0.87</td>\n",
       "      <td>0.95</td>\n",
       "      <td>0.90</td>\n",
       "    </tr>\n",
       "    <tr>\n",
       "      <th>min</th>\n",
       "      <td>-2.00</td>\n",
       "      <td>-2.00</td>\n",
       "      <td>-2.00</td>\n",
       "    </tr>\n",
       "    <tr>\n",
       "      <th>max</th>\n",
       "      <td>2.00</td>\n",
       "      <td>2.00</td>\n",
       "      <td>2.00</td>\n",
       "    </tr>\n",
       "  </tbody>\n",
       "</table>\n",
       "</div>"
      ],
      "text/plain": [
       "      2018  2019  2020\n",
       "mean  1.09  1.01  0.93\n",
       "std   0.87  0.95  0.90\n",
       "min  -2.00 -2.00 -2.00\n",
       "max   2.00  2.00  2.00"
      ]
     },
     "execution_count": 100,
     "metadata": {},
     "output_type": "execute_result"
    }
   ],
   "source": [
    "describe_sat(\"satisfaction\")"
   ]
  },
  {
   "cell_type": "code",
   "execution_count": 64,
   "metadata": {},
   "outputs": [
    {
     "data": {
      "text/html": [
       "<div>\n",
       "<style scoped>\n",
       "    .dataframe tbody tr th:only-of-type {\n",
       "        vertical-align: middle;\n",
       "    }\n",
       "\n",
       "    .dataframe tbody tr th {\n",
       "        vertical-align: top;\n",
       "    }\n",
       "\n",
       "    .dataframe thead th {\n",
       "        text-align: right;\n",
       "    }\n",
       "</style>\n",
       "<table border=\"1\" class=\"dataframe\">\n",
       "  <thead>\n",
       "    <tr style=\"text-align: right;\">\n",
       "      <th></th>\n",
       "      <th>2018</th>\n",
       "      <th>2019</th>\n",
       "      <th>2020</th>\n",
       "    </tr>\n",
       "  </thead>\n",
       "  <tbody>\n",
       "    <tr>\n",
       "      <th>mean</th>\n",
       "      <td>1.67</td>\n",
       "      <td>1.63</td>\n",
       "      <td>1.47</td>\n",
       "    </tr>\n",
       "    <tr>\n",
       "      <th>std</th>\n",
       "      <td>0.89</td>\n",
       "      <td>0.89</td>\n",
       "      <td>0.89</td>\n",
       "    </tr>\n",
       "    <tr>\n",
       "      <th>min</th>\n",
       "      <td>0.00</td>\n",
       "      <td>0.00</td>\n",
       "      <td>0.00</td>\n",
       "    </tr>\n",
       "    <tr>\n",
       "      <th>max</th>\n",
       "      <td>3.00</td>\n",
       "      <td>3.00</td>\n",
       "      <td>3.00</td>\n",
       "    </tr>\n",
       "  </tbody>\n",
       "</table>\n",
       "</div>"
      ],
      "text/plain": [
       "      2018  2019  2020\n",
       "mean  1.67  1.63  1.47\n",
       "std   0.89  0.89  0.89\n",
       "min   0.00  0.00  0.00\n",
       "max   3.00  3.00  3.00"
      ]
     },
     "execution_count": 64,
     "metadata": {},
     "output_type": "execute_result"
    }
   ],
   "source": [
    "describe_sat(\"career_service\")"
   ]
  },
  {
   "cell_type": "code",
   "execution_count": 99,
   "metadata": {},
   "outputs": [
    {
     "data": {
      "text/html": [
       "<div>\n",
       "<style scoped>\n",
       "    .dataframe tbody tr th:only-of-type {\n",
       "        vertical-align: middle;\n",
       "    }\n",
       "\n",
       "    .dataframe tbody tr th {\n",
       "        vertical-align: top;\n",
       "    }\n",
       "\n",
       "    .dataframe thead th {\n",
       "        text-align: right;\n",
       "    }\n",
       "</style>\n",
       "<table border=\"1\" class=\"dataframe\">\n",
       "  <thead>\n",
       "    <tr style=\"text-align: right;\">\n",
       "      <th></th>\n",
       "      <th>2018</th>\n",
       "      <th>2019</th>\n",
       "      <th>2020</th>\n",
       "    </tr>\n",
       "  </thead>\n",
       "  <tbody>\n",
       "    <tr>\n",
       "      <th>is_woman</th>\n",
       "      <td>0.0</td>\n",
       "      <td>1.0</td>\n",
       "      <td>0.0</td>\n",
       "    </tr>\n",
       "    <tr>\n",
       "      <th>is_int</th>\n",
       "      <td>0.0</td>\n",
       "      <td>0.0</td>\n",
       "      <td>0.0</td>\n",
       "    </tr>\n",
       "    <tr>\n",
       "      <th>mobility</th>\n",
       "      <td>0.0</td>\n",
       "      <td>0.0</td>\n",
       "      <td>1.0</td>\n",
       "    </tr>\n",
       "    <tr>\n",
       "      <th>career_jump</th>\n",
       "      <td>1.0</td>\n",
       "      <td>0.0</td>\n",
       "      <td>0.0</td>\n",
       "    </tr>\n",
       "  </tbody>\n",
       "</table>\n",
       "</div>"
      ],
      "text/plain": [
       "             2018  2019  2020\n",
       "is_woman      0.0   1.0   0.0\n",
       "is_int        0.0   0.0   0.0\n",
       "mobility      0.0   0.0   1.0\n",
       "career_jump   1.0   0.0   0.0"
      ]
     },
     "execution_count": 99,
     "metadata": {},
     "output_type": "execute_result"
    }
   ],
   "source": [
    "mode()"
   ]
  }
 ],
 "metadata": {
  "kernelspec": {
   "display_name": "Python 3.8.8 ('base')",
   "language": "python",
   "name": "python3"
  },
  "language_info": {
   "codemirror_mode": {
    "name": "ipython",
    "version": 3
   },
   "file_extension": ".py",
   "mimetype": "text/x-python",
   "name": "python",
   "nbconvert_exporter": "python",
   "pygments_lexer": "ipython3",
   "version": "3.8.8"
  },
  "orig_nbformat": 4,
  "vscode": {
   "interpreter": {
    "hash": "e3bb8fee915964c98bdc758b4b513ee38917f0a6fb4349bbca79ac4e140842c9"
   }
  }
 },
 "nbformat": 4,
 "nbformat_minor": 2
}
