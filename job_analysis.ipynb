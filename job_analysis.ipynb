{
 "cells": [
  {
   "cell_type": "code",
   "execution_count": 8,
   "metadata": {},
   "outputs": [],
   "source": [
    "import pandas as pd\n",
    "import utils\n",
    "import preprocessing\n",
    "import factors\n",
    "from collections import Counter"
   ]
  },
  {
   "cell_type": "code",
   "execution_count": 2,
   "metadata": {},
   "outputs": [],
   "source": [
    "def load_data(year):\n",
    "    #import BDD file\n",
    "    df_y1_y2 = utils.import_BDD(f\"data/BDD{year}.csv\")\n",
    "    #import qualtrics file (substituted by an empty file if not avaialable)\n",
    "    df_y3 = utils.import_qualtrics(f\"data/qualtrics{year}.csv\")\n",
    "    #merge the two data sources (BDD and qualtrics)\n",
    "    df_all = pd.merge(df_y1_y2,df_y3, how=\"outer\", on=\"bid\")\n",
    "    #import file containing admission codes\n",
    "    admissions = pd.read_csv(\"data/admission.csv\")\n",
    "    admissions.dropna(inplace = True)\n",
    "    admissions.drop(\"STVATTS_DESC\", axis = 1, inplace = True)\n",
    "\n",
    "    #join the admissions codes with the general df\n",
    "    df = df_all.merge(admissions, how = \"left\", left_on = \"admission1\", right_on = \"STVATTS_CODE\")\n",
    "    df.drop(\"STVATTS_CODE\", axis = 1, inplace = True)\n",
    "    return df"
   ]
  },
  {
   "cell_type": "code",
   "execution_count": 3,
   "metadata": {},
   "outputs": [],
   "source": [
    "df1 = load_data(2018)\n",
    "df2 = load_data(2019)\n",
    "df3 = load_data(2020)"
   ]
  },
  {
   "cell_type": "code",
   "execution_count": 5,
   "metadata": {},
   "outputs": [],
   "source": [
    "jobs = []\n",
    "\n",
    "for df in [df1,df2,df3]:\n",
    "    job_post_y1=df.job_post_y1.apply(preprocessing.preprocess_job_post).values.tolist()\n",
    "    job_post_y1 = [j for j in job_post_y1 if j==j]\n",
    "\n",
    "    job_post_y2=df.job_post_y2.apply(preprocessing.preprocess_job_post).values.tolist()\n",
    "    job_post_y2 = [j for j in job_post_y2 if j==j]\n",
    "\n",
    "    job_post_y3=df.job_post_y3.apply(preprocessing.preprocess_job_post).values.tolist()\n",
    "    job_post_y3 = [j for j in job_post_y3 if j==j]\n",
    "\n",
    "    job_post_now=df.job_post_now.apply(preprocessing.preprocess_job_post).values.tolist()\n",
    "    job_post_now = [j for j in job_post_now if j==j]\n",
    "    \n",
    "    #get a list with all job postings \n",
    "    jobs += job_post_y1\n",
    "    jobs += job_post_y2\n",
    "    jobs +=job_post_y3\n",
    "    jobs += job_post_now\n"
   ]
  },
  {
   "cell_type": "code",
   "execution_count": 10,
   "metadata": {},
   "outputs": [
    {
     "data": {
      "text/plain": [
       "2721"
      ]
     },
     "execution_count": 10,
     "metadata": {},
     "output_type": "execute_result"
    }
   ],
   "source": [
    "len(jobs)"
   ]
  },
  {
   "cell_type": "code",
   "execution_count": 9,
   "metadata": {},
   "outputs": [
    {
     "data": {
      "text/html": [
       "<div>\n",
       "<style scoped>\n",
       "    .dataframe tbody tr th:only-of-type {\n",
       "        vertical-align: middle;\n",
       "    }\n",
       "\n",
       "    .dataframe tbody tr th {\n",
       "        vertical-align: top;\n",
       "    }\n",
       "\n",
       "    .dataframe thead th {\n",
       "        text-align: right;\n",
       "    }\n",
       "</style>\n",
       "<table border=\"1\" class=\"dataframe\">\n",
       "  <thead>\n",
       "    <tr style=\"text-align: right;\">\n",
       "      <th></th>\n",
       "      <th>Word</th>\n",
       "      <th>Frequency</th>\n",
       "    </tr>\n",
       "  </thead>\n",
       "  <tbody>\n",
       "    <tr>\n",
       "      <th>0</th>\n",
       "      <td>consultant</td>\n",
       "      <td>470</td>\n",
       "    </tr>\n",
       "    <tr>\n",
       "      <th>1</th>\n",
       "      <td>analyst</td>\n",
       "      <td>389</td>\n",
       "    </tr>\n",
       "    <tr>\n",
       "      <th>2</th>\n",
       "      <td>manager</td>\n",
       "      <td>360</td>\n",
       "    </tr>\n",
       "    <tr>\n",
       "      <th>3</th>\n",
       "      <td>associate</td>\n",
       "      <td>243</td>\n",
       "    </tr>\n",
       "    <tr>\n",
       "      <th>4</th>\n",
       "      <td>senior</td>\n",
       "      <td>194</td>\n",
       "    </tr>\n",
       "    <tr>\n",
       "      <th>5</th>\n",
       "      <td>analyste</td>\n",
       "      <td>153</td>\n",
       "    </tr>\n",
       "    <tr>\n",
       "      <th>6</th>\n",
       "      <td>business</td>\n",
       "      <td>139</td>\n",
       "    </tr>\n",
       "    <tr>\n",
       "      <th>7</th>\n",
       "      <td>data</td>\n",
       "      <td>113</td>\n",
       "    </tr>\n",
       "    <tr>\n",
       "      <th>8</th>\n",
       "      <td>chef</td>\n",
       "      <td>107</td>\n",
       "    </tr>\n",
       "    <tr>\n",
       "      <th>9</th>\n",
       "      <td>junior</td>\n",
       "      <td>104</td>\n",
       "    </tr>\n",
       "    <tr>\n",
       "      <th>10</th>\n",
       "      <td>consultante</td>\n",
       "      <td>95</td>\n",
       "    </tr>\n",
       "    <tr>\n",
       "      <th>11</th>\n",
       "      <td>investment</td>\n",
       "      <td>80</td>\n",
       "    </tr>\n",
       "    <tr>\n",
       "      <th>12</th>\n",
       "      <td>product</td>\n",
       "      <td>78</td>\n",
       "    </tr>\n",
       "    <tr>\n",
       "      <th>13</th>\n",
       "      <td>strategy</td>\n",
       "      <td>76</td>\n",
       "    </tr>\n",
       "    <tr>\n",
       "      <th>14</th>\n",
       "      <td>marketing</td>\n",
       "      <td>74</td>\n",
       "    </tr>\n",
       "    <tr>\n",
       "      <th>15</th>\n",
       "      <td>project</td>\n",
       "      <td>71</td>\n",
       "    </tr>\n",
       "    <tr>\n",
       "      <th>16</th>\n",
       "      <td>projet</td>\n",
       "      <td>70</td>\n",
       "    </tr>\n",
       "    <tr>\n",
       "      <th>17</th>\n",
       "      <td>responsable</td>\n",
       "      <td>68</td>\n",
       "    </tr>\n",
       "    <tr>\n",
       "      <th>18</th>\n",
       "      <td>chargée</td>\n",
       "      <td>66</td>\n",
       "    </tr>\n",
       "    <tr>\n",
       "      <th>19</th>\n",
       "      <td>operations</td>\n",
       "      <td>49</td>\n",
       "    </tr>\n",
       "  </tbody>\n",
       "</table>\n",
       "</div>"
      ],
      "text/plain": [
       "           Word  Frequency\n",
       "0    consultant        470\n",
       "1       analyst        389\n",
       "2       manager        360\n",
       "3     associate        243\n",
       "4        senior        194\n",
       "5      analyste        153\n",
       "6      business        139\n",
       "7          data        113\n",
       "8          chef        107\n",
       "9        junior        104\n",
       "10  consultante         95\n",
       "11   investment         80\n",
       "12      product         78\n",
       "13     strategy         76\n",
       "14    marketing         74\n",
       "15      project         71\n",
       "16       projet         70\n",
       "17  responsable         68\n",
       "18      chargée         66\n",
       "19   operations         49"
      ]
     },
     "execution_count": 9,
     "metadata": {},
     "output_type": "execute_result"
    }
   ],
   "source": [
    "word_count = Counter(\" \".join(jobs).split()).most_common(50)\n",
    "word_frequency = pd.DataFrame(word_count, columns = ['Word', 'Frequency'])\n",
    "word_frequency.head(20)"
   ]
  },
  {
   "cell_type": "code",
   "execution_count": 11,
   "metadata": {},
   "outputs": [],
   "source": [
    "junior_words = ['consultant','analyst','consultante','analyste','junior','graduate']\n",
    "senior_words = ['manager','senior','associate','chef','responsable','head','lead','specialist','ceo']"
   ]
  },
  {
   "cell_type": "code",
   "execution_count": 14,
   "metadata": {},
   "outputs": [],
   "source": [
    "words_chosen = word_frequency.loc[word_frequency['Word'].isin(junior_words+senior_words)] "
   ]
  },
  {
   "cell_type": "code",
   "execution_count": 16,
   "metadata": {},
   "outputs": [
    {
     "name": "stderr",
     "output_type": "stream",
     "text": [
      "c:\\Users\\Chiara\\anaconda3\\lib\\site-packages\\pandas\\core\\indexing.py:1676: SettingWithCopyWarning: \n",
      "A value is trying to be set on a copy of a slice from a DataFrame.\n",
      "Try using .loc[row_indexer,col_indexer] = value instead\n",
      "\n",
      "See the caveats in the documentation: https://pandas.pydata.org/pandas-docs/stable/user_guide/indexing.html#returning-a-view-versus-a-copy\n",
      "  self._setitem_single_column(ilocs[0], value, pi)\n"
     ]
    }
   ],
   "source": [
    "words_chosen.loc[:,\"Percentage\"] = words_chosen[\"Frequency\"].apply(lambda x: f\"{round(x/len(jobs)*100,2)}%\")"
   ]
  },
  {
   "cell_type": "code",
   "execution_count": 19,
   "metadata": {},
   "outputs": [
    {
     "data": {
      "text/html": [
       "<div>\n",
       "<style scoped>\n",
       "    .dataframe tbody tr th:only-of-type {\n",
       "        vertical-align: middle;\n",
       "    }\n",
       "\n",
       "    .dataframe tbody tr th {\n",
       "        vertical-align: top;\n",
       "    }\n",
       "\n",
       "    .dataframe thead th {\n",
       "        text-align: right;\n",
       "    }\n",
       "</style>\n",
       "<table border=\"1\" class=\"dataframe\">\n",
       "  <thead>\n",
       "    <tr style=\"text-align: right;\">\n",
       "      <th></th>\n",
       "      <th>Word</th>\n",
       "      <th>Percentage</th>\n",
       "    </tr>\n",
       "  </thead>\n",
       "  <tbody>\n",
       "    <tr>\n",
       "      <th>0</th>\n",
       "      <td>consultant</td>\n",
       "      <td>17.27%</td>\n",
       "    </tr>\n",
       "    <tr>\n",
       "      <th>1</th>\n",
       "      <td>analyst</td>\n",
       "      <td>14.3%</td>\n",
       "    </tr>\n",
       "    <tr>\n",
       "      <th>2</th>\n",
       "      <td>manager</td>\n",
       "      <td>13.23%</td>\n",
       "    </tr>\n",
       "    <tr>\n",
       "      <th>3</th>\n",
       "      <td>associate</td>\n",
       "      <td>8.93%</td>\n",
       "    </tr>\n",
       "    <tr>\n",
       "      <th>4</th>\n",
       "      <td>senior</td>\n",
       "      <td>7.13%</td>\n",
       "    </tr>\n",
       "    <tr>\n",
       "      <th>5</th>\n",
       "      <td>analyste</td>\n",
       "      <td>5.62%</td>\n",
       "    </tr>\n",
       "    <tr>\n",
       "      <th>8</th>\n",
       "      <td>chef</td>\n",
       "      <td>3.93%</td>\n",
       "    </tr>\n",
       "    <tr>\n",
       "      <th>9</th>\n",
       "      <td>junior</td>\n",
       "      <td>3.82%</td>\n",
       "    </tr>\n",
       "    <tr>\n",
       "      <th>10</th>\n",
       "      <td>consultante</td>\n",
       "      <td>3.49%</td>\n",
       "    </tr>\n",
       "    <tr>\n",
       "      <th>17</th>\n",
       "      <td>responsable</td>\n",
       "      <td>2.5%</td>\n",
       "    </tr>\n",
       "    <tr>\n",
       "      <th>25</th>\n",
       "      <td>graduate</td>\n",
       "      <td>1.43%</td>\n",
       "    </tr>\n",
       "    <tr>\n",
       "      <th>33</th>\n",
       "      <td>head</td>\n",
       "      <td>1.21%</td>\n",
       "    </tr>\n",
       "    <tr>\n",
       "      <th>40</th>\n",
       "      <td>lead</td>\n",
       "      <td>1.03%</td>\n",
       "    </tr>\n",
       "    <tr>\n",
       "      <th>46</th>\n",
       "      <td>specialist</td>\n",
       "      <td>0.92%</td>\n",
       "    </tr>\n",
       "    <tr>\n",
       "      <th>48</th>\n",
       "      <td>ceo</td>\n",
       "      <td>0.85%</td>\n",
       "    </tr>\n",
       "  </tbody>\n",
       "</table>\n",
       "</div>"
      ],
      "text/plain": [
       "           Word Percentage\n",
       "0    consultant     17.27%\n",
       "1       analyst      14.3%\n",
       "2       manager     13.23%\n",
       "3     associate      8.93%\n",
       "4        senior      7.13%\n",
       "5      analyste      5.62%\n",
       "8          chef      3.93%\n",
       "9        junior      3.82%\n",
       "10  consultante      3.49%\n",
       "17  responsable       2.5%\n",
       "25     graduate      1.43%\n",
       "33         head      1.21%\n",
       "40         lead      1.03%\n",
       "46   specialist      0.92%\n",
       "48          ceo      0.85%"
      ]
     },
     "execution_count": 19,
     "metadata": {},
     "output_type": "execute_result"
    }
   ],
   "source": [
    "words_chosen[[\"Word\", \"Percentage\"]]"
   ]
  },
  {
   "cell_type": "code",
   "execution_count": 20,
   "metadata": {},
   "outputs": [
    {
     "data": {
      "text/plain": [
       "0.8566703417861081"
      ]
     },
     "execution_count": 20,
     "metadata": {},
     "output_type": "execute_result"
    }
   ],
   "source": [
    "#tot percentage of job positions covered\n",
    "words_chosen[\"Frequency\"].apply(lambda x: x/len(jobs)).sum()"
   ]
  }
 ],
 "metadata": {
  "kernelspec": {
   "display_name": "Python 3.8.8 ('base')",
   "language": "python",
   "name": "python3"
  },
  "language_info": {
   "codemirror_mode": {
    "name": "ipython",
    "version": 3
   },
   "file_extension": ".py",
   "mimetype": "text/x-python",
   "name": "python",
   "nbconvert_exporter": "python",
   "pygments_lexer": "ipython3",
   "version": "3.8.8"
  },
  "orig_nbformat": 4,
  "vscode": {
   "interpreter": {
    "hash": "e3bb8fee915964c98bdc758b4b513ee38917f0a6fb4349bbca79ac4e140842c9"
   }
  }
 },
 "nbformat": 4,
 "nbformat_minor": 2
}
